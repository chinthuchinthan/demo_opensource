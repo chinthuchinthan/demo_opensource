{
  "nbformat": 4,
  "nbformat_minor": 0,
  "metadata": {
    "colab": {
      "provenance": [],
      "authorship_tag": "ABX9TyNXAADLmvVXYw1P6NZYmSpU",
      "include_colab_link": true
    },
    "kernelspec": {
      "name": "python3",
      "display_name": "Python 3"
    },
    "language_info": {
      "name": "python"
    }
  },
  "cells": [
    {
      "cell_type": "markdown",
      "metadata": {
        "id": "view-in-github",
        "colab_type": "text"
      },
      "source": [
        "<a href=\"https://colab.research.google.com/github/chinthuchinthan/demo_opensource/blob/master/steemer15.ipynb\" target=\"_parent\"><img src=\"https://colab.research.google.com/assets/colab-badge.svg\" alt=\"Open In Colab\"/></a>"
      ]
    },
    {
      "cell_type": "code",
      "execution_count": 2,
      "metadata": {
        "id": "iRe2k5POYGoo"
      },
      "outputs": [],
      "source": [
        "article_text=\"Just what is agility in the context of software engineering work? Ivar Jacobs\"\n"
      ]
    },
    {
      "cell_type": "code",
      "source": [
        "import re\n",
        "import nltk\n",
        "from nltk.tokenize import word_tokenize\n"
      ],
      "metadata": {
        "id": "r93RynGhYQ6v"
      },
      "execution_count": 3,
      "outputs": []
    },
    {
      "cell_type": "code",
      "source": [
        "article_text = article_text.lower()\n",
        "article_text\n"
      ],
      "metadata": {
        "colab": {
          "base_uri": "https://localhost:8080/",
          "height": 36
        },
        "id": "kIRKgs7pYTPi",
        "outputId": "e87fc22d-7305-426f-99ef-30161b72db3b"
      },
      "execution_count": 4,
      "outputs": [
        {
          "output_type": "execute_result",
          "data": {
            "text/plain": [
              "'just what is agility in the context of software engineering work? ivar jacobs'"
            ],
            "application/vnd.google.colaboratory.intrinsic+json": {
              "type": "string"
            }
          },
          "metadata": {},
          "execution_count": 4
        }
      ]
    },
    {
      "cell_type": "code",
      "source": [
        "clean_text = re.sub(r'[^a-zA-Z\\s]', '', article_text)\n",
        "clean_text\n"
      ],
      "metadata": {
        "colab": {
          "base_uri": "https://localhost:8080/",
          "height": 36
        },
        "id": "CwELmXKMYWCn",
        "outputId": "27adc569-da3d-43ef-e444-1393509cc0a3"
      },
      "execution_count": 5,
      "outputs": [
        {
          "output_type": "execute_result",
          "data": {
            "text/plain": [
              "'just what is agility in the context of software engineering work ivar jacobs'"
            ],
            "application/vnd.google.colaboratory.intrinsic+json": {
              "type": "string"
            }
          },
          "metadata": {},
          "execution_count": 5
        }
      ]
    },
    {
      "cell_type": "code",
      "source": [
        "nltk.download('punkt_tab')"
      ],
      "metadata": {
        "colab": {
          "base_uri": "https://localhost:8080/"
        },
        "id": "Brf4isxNYXAB",
        "outputId": "892e2424-4964-468a-a2a2-7565f6adf279"
      },
      "execution_count": 6,
      "outputs": [
        {
          "output_type": "stream",
          "name": "stderr",
          "text": [
            "[nltk_data] Downloading package punkt_tab to /root/nltk_data...\n",
            "[nltk_data]   Unzipping tokenizers/punkt_tab.zip.\n"
          ]
        },
        {
          "output_type": "execute_result",
          "data": {
            "text/plain": [
              "True"
            ]
          },
          "metadata": {},
          "execution_count": 6
        }
      ]
    },
    {
      "cell_type": "code",
      "source": [
        "sentence_list = nltk.sent_tokenize(article_text)\n",
        "sentence_list\n"
      ],
      "metadata": {
        "colab": {
          "base_uri": "https://localhost:8080/"
        },
        "id": "TxxrqH8wYZJX",
        "outputId": "8a55fdb2-9a3d-47ef-cf06-0b8ee1583875"
      },
      "execution_count": 7,
      "outputs": [
        {
          "output_type": "execute_result",
          "data": {
            "text/plain": [
              "['just what is agility in the context of software engineering work?',\n",
              " 'ivar jacobs']"
            ]
          },
          "metadata": {},
          "execution_count": 7
        }
      ]
    },
    {
      "cell_type": "code",
      "source": [
        "tokens = word_tokenize(clean_text)\n",
        "tokens\n"
      ],
      "metadata": {
        "colab": {
          "base_uri": "https://localhost:8080/"
        },
        "id": "YE-e9DoJYbLP",
        "outputId": "e22b4989-9900-4b0e-b9a4-a3aac0f3b240"
      },
      "execution_count": 8,
      "outputs": [
        {
          "output_type": "execute_result",
          "data": {
            "text/plain": [
              "['just',\n",
              " 'what',\n",
              " 'is',\n",
              " 'agility',\n",
              " 'in',\n",
              " 'the',\n",
              " 'context',\n",
              " 'of',\n",
              " 'software',\n",
              " 'engineering',\n",
              " 'work',\n",
              " 'ivar',\n",
              " 'jacobs']"
            ]
          },
          "metadata": {},
          "execution_count": 8
        }
      ]
    },
    {
      "cell_type": "code",
      "source": [
        "nltk.download('stopwords')  # Download stopwords dataset\n",
        "from nltk.corpus import stopwords\n",
        "stop_words = set(stopwords.words('english'))\n"
      ],
      "metadata": {
        "colab": {
          "base_uri": "https://localhost:8080/"
        },
        "id": "sRCniz3rYd0w",
        "outputId": "320cf27e-a053-4b7f-b024-676410163725"
      },
      "execution_count": 9,
      "outputs": [
        {
          "output_type": "stream",
          "name": "stderr",
          "text": [
            "[nltk_data] Downloading package stopwords to /root/nltk_data...\n",
            "[nltk_data]   Unzipping corpora/stopwords.zip.\n"
          ]
        }
      ]
    },
    {
      "cell_type": "code",
      "source": [
        "word_frequencies = {}\n",
        "for word in tokens:\n",
        "    if word not in stop_words:\n",
        "        if word not in word_frequencies:\n",
        "            word_frequencies[word] = 1\n",
        "        else:\n",
        "            word_frequencies[word] += 1\n",
        "word_frequencies\n"
      ],
      "metadata": {
        "colab": {
          "base_uri": "https://localhost:8080/"
        },
        "id": "iw9rZp9hYgMz",
        "outputId": "b6fcefb8-620b-440f-ab9e-3857672ca5dd"
      },
      "execution_count": 10,
      "outputs": [
        {
          "output_type": "execute_result",
          "data": {
            "text/plain": [
              "{'agility': 1,\n",
              " 'context': 1,\n",
              " 'software': 1,\n",
              " 'engineering': 1,\n",
              " 'work': 1,\n",
              " 'ivar': 1,\n",
              " 'jacobs': 1}"
            ]
          },
          "metadata": {},
          "execution_count": 10
        }
      ]
    },
    {
      "cell_type": "code",
      "source": [
        "from collections import Counter\n",
        "dictionary = Counter(word_frequencies)\n",
        "dictionary\n"
      ],
      "metadata": {
        "colab": {
          "base_uri": "https://localhost:8080/"
        },
        "id": "2lxRgsFhYiPA",
        "outputId": "b0d95584-1089-4295-88c6-60f3e486637d"
      },
      "execution_count": 11,
      "outputs": [
        {
          "output_type": "execute_result",
          "data": {
            "text/plain": [
              "Counter({'agility': 1,\n",
              "         'context': 1,\n",
              "         'software': 1,\n",
              "         'engineering': 1,\n",
              "         'work': 1,\n",
              "         'ivar': 1,\n",
              "         'jacobs': 1})"
            ]
          },
          "metadata": {},
          "execution_count": 11
        }
      ]
    },
    {
      "cell_type": "code",
      "source": [
        "from nltk.stem import PorterStemmer\n",
        "from nltk.stem import LancasterStemmer\n"
      ],
      "metadata": {
        "id": "ywSYlmoeYl43"
      },
      "execution_count": 12,
      "outputs": []
    },
    {
      "cell_type": "code",
      "source": [
        "porter = PorterStemmer()\n",
        "lancaster = LancasterStemmer()\n",
        "\n",
        "print(porter.stem(\"cats\"))\n",
        "print(lancaster.stem(\"cats\"))\n",
        "print(porter.stem(\"troubling\"))\n",
        "print(lancaster.stem(\"troubling\"))\n",
        "print(porter.stem(\"troubled\"))\n",
        "print(lancaster.stem(\"troubled\"))\n"
      ],
      "metadata": {
        "colab": {
          "base_uri": "https://localhost:8080/"
        },
        "id": "aX5WnItiYm6n",
        "outputId": "b848d6dd-67ff-47e6-e10a-2d87c10d6428"
      },
      "execution_count": 13,
      "outputs": [
        {
          "output_type": "stream",
          "name": "stdout",
          "text": [
            "cat\n",
            "cat\n",
            "troubl\n",
            "troubl\n",
            "troubl\n",
            "troubl\n"
          ]
        }
      ]
    },
    {
      "cell_type": "code",
      "source": [
        "word_list = [\"friend\", \"friendship\", \"friends\", \"friendships\", \"stabil\", \"destabilize\"]\n",
        "print(\"{:20}{:20}{:20}\".format(\"Word\", \"Porter Stemmer\", \"Lancaster Stemmer\"))\n",
        "for word in word_list:\n",
        "    print(\"{:20}{:20}{:20}\".format(word, porter.stem(word), lancaster.stem(word)))\n"
      ],
      "metadata": {
        "colab": {
          "base_uri": "https://localhost:8080/"
        },
        "id": "9thn3EqQYpFN",
        "outputId": "69d412f7-2349-4226-8daf-90437125d7ae"
      },
      "execution_count": 14,
      "outputs": [
        {
          "output_type": "stream",
          "name": "stdout",
          "text": [
            "Word                Porter Stemmer      Lancaster Stemmer   \n",
            "friend              friend              friend              \n",
            "friendship          friendship          friend              \n",
            "friends             friend              friend              \n",
            "friendships         friendship          friend              \n",
            "stabil              stabil              stabl               \n",
            "destabilize         destabil            dest                \n"
          ]
        }
      ]
    },
    {
      "cell_type": "code",
      "source": [
        "stem_sentence = []\n",
        "for word in tokens:\n",
        "    stem_sentence.append(porter.stem(word))\n",
        "    stem_sentence.append(\" \")\n",
        "stem_sentence\n"
      ],
      "metadata": {
        "colab": {
          "base_uri": "https://localhost:8080/"
        },
        "id": "vNVfsiyIYsTH",
        "outputId": "4765d05a-79e3-4ab9-e042-1d5e98705b7f"
      },
      "execution_count": 15,
      "outputs": [
        {
          "output_type": "execute_result",
          "data": {
            "text/plain": [
              "['just',\n",
              " ' ',\n",
              " 'what',\n",
              " ' ',\n",
              " 'is',\n",
              " ' ',\n",
              " 'agil',\n",
              " ' ',\n",
              " 'in',\n",
              " ' ',\n",
              " 'the',\n",
              " ' ',\n",
              " 'context',\n",
              " ' ',\n",
              " 'of',\n",
              " ' ',\n",
              " 'softwar',\n",
              " ' ',\n",
              " 'engin',\n",
              " ' ',\n",
              " 'work',\n",
              " ' ',\n",
              " 'ivar',\n",
              " ' ',\n",
              " 'jacob',\n",
              " ' ']"
            ]
          },
          "metadata": {},
          "execution_count": 15
        }
      ]
    },
    {
      "cell_type": "code",
      "source": [
        "from nltk.stem import WordNetLemmatizer\n",
        "lemmatizer = WordNetLemmatizer()\n"
      ],
      "metadata": {
        "id": "_5G9VQaLYtPe"
      },
      "execution_count": 16,
      "outputs": []
    },
    {
      "cell_type": "code",
      "source": [
        "import nltk\n",
        "nltk.download('wordnet')\n"
      ],
      "metadata": {
        "colab": {
          "base_uri": "https://localhost:8080/"
        },
        "id": "7UQjG24DYvVc",
        "outputId": "2e50c169-a260-4e1e-d9ea-0bfbe5f1d36d"
      },
      "execution_count": 17,
      "outputs": [
        {
          "output_type": "stream",
          "name": "stderr",
          "text": [
            "[nltk_data] Downloading package wordnet to /root/nltk_data...\n"
          ]
        },
        {
          "output_type": "execute_result",
          "data": {
            "text/plain": [
              "True"
            ]
          },
          "metadata": {},
          "execution_count": 17
        }
      ]
    },
    {
      "cell_type": "code",
      "source": [
        "def lemmatize_word(word):\n",
        "    return lemmatizer.lemmatize(word)\n"
      ],
      "metadata": {
        "id": "cBmpk2yvYxeZ"
      },
      "execution_count": 18,
      "outputs": []
    },
    {
      "cell_type": "code",
      "source": [
        "word_list = [\"word1\", \"word2\", \"word3\"]\n",
        "print(\"{:20}{:20}\".format(\"Word\", \"Lemma\"))\n",
        "for word in word_list:\n",
        "    print(\"{:20}{:20}\".format(word, lemmatize_word(word)))\n"
      ],
      "metadata": {
        "colab": {
          "base_uri": "https://localhost:8080/"
        },
        "id": "H7HZ5MOnYzhn",
        "outputId": "fe566034-ffd8-497c-8d4b-0e4fdc9340a8"
      },
      "execution_count": 19,
      "outputs": [
        {
          "output_type": "stream",
          "name": "stdout",
          "text": [
            "Word                Lemma               \n",
            "word1               word1               \n",
            "word2               word2               \n",
            "word3               word3               \n"
          ]
        }
      ]
    }
  ]
}